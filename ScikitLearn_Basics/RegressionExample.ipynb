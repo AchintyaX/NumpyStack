{
 "cells": [
  {
   "cell_type": "code",
   "execution_count": 1,
   "metadata": {},
   "outputs": [],
   "source": [
    "import numpy as np\n",
    "import pandas as pd"
   ]
  },
  {
   "cell_type": "code",
   "execution_count": 2,
   "metadata": {},
   "outputs": [],
   "source": [
    "# we are using regression here, Regression is different from classification\n",
    "# In classification we have to seperate the data into different categories \n",
    "# while in regression we have to use the input data to make prediction for future data\n",
    "# like predicting the price of stock"
   ]
  },
  {
   "cell_type": "code",
   "execution_count": 3,
   "metadata": {},
   "outputs": [],
   "source": [
    "# let us get the dataset \n",
    "\n",
    "# about the dataset:\n",
    "# NASA data set, obtained from a series of aerodynamic and acoustic tests of two and three-dimensional airfoil blade sections conducted in an anechoic wind tunnel.\n",
    "df = pd.read_csv('airfoil_self_noise.dat')"
   ]
  },
  {
   "cell_type": "code",
   "execution_count": 4,
   "metadata": {},
   "outputs": [
    {
     "data": {
      "text/html": [
       "<div>\n",
       "<style scoped>\n",
       "    .dataframe tbody tr th:only-of-type {\n",
       "        vertical-align: middle;\n",
       "    }\n",
       "\n",
       "    .dataframe tbody tr th {\n",
       "        vertical-align: top;\n",
       "    }\n",
       "\n",
       "    .dataframe thead th {\n",
       "        text-align: right;\n",
       "    }\n",
       "</style>\n",
       "<table border=\"1\" class=\"dataframe\">\n",
       "  <thead>\n",
       "    <tr style=\"text-align: right;\">\n",
       "      <th></th>\n",
       "      <th>800\t0\t0.3048\t71.3\t0.00266337\t126.201</th>\n",
       "    </tr>\n",
       "  </thead>\n",
       "  <tbody>\n",
       "    <tr>\n",
       "      <th>0</th>\n",
       "      <td>1000\\t0\\t0.3048\\t71.3\\t0.00266337\\t125.201</td>\n",
       "    </tr>\n",
       "    <tr>\n",
       "      <th>1</th>\n",
       "      <td>1250\\t0\\t0.3048\\t71.3\\t0.00266337\\t125.951</td>\n",
       "    </tr>\n",
       "    <tr>\n",
       "      <th>2</th>\n",
       "      <td>1600\\t0\\t0.3048\\t71.3\\t0.00266337\\t127.591</td>\n",
       "    </tr>\n",
       "    <tr>\n",
       "      <th>3</th>\n",
       "      <td>2000\\t0\\t0.3048\\t71.3\\t0.00266337\\t127.461</td>\n",
       "    </tr>\n",
       "    <tr>\n",
       "      <th>4</th>\n",
       "      <td>2500\\t0\\t0.3048\\t71.3\\t0.00266337\\t125.571</td>\n",
       "    </tr>\n",
       "  </tbody>\n",
       "</table>\n",
       "</div>"
      ],
      "text/plain": [
       "    800\\t0\\t0.3048\\t71.3\\t0.00266337\\t126.201\n",
       "0  1000\\t0\\t0.3048\\t71.3\\t0.00266337\\t125.201\n",
       "1  1250\\t0\\t0.3048\\t71.3\\t0.00266337\\t125.951\n",
       "2  1600\\t0\\t0.3048\\t71.3\\t0.00266337\\t127.591\n",
       "3  2000\\t0\\t0.3048\\t71.3\\t0.00266337\\t127.461\n",
       "4  2500\\t0\\t0.3048\\t71.3\\t0.00266337\\t125.571"
      ]
     },
     "execution_count": 4,
     "metadata": {},
     "output_type": "execute_result"
    }
   ],
   "source": [
    "df.head()"
   ]
  },
  {
   "cell_type": "code",
   "execution_count": null,
   "metadata": {},
   "outputs": [],
   "source": []
  }
 ],
 "metadata": {
  "kernelspec": {
   "display_name": "Python 3",
   "language": "python",
   "name": "python3"
  },
  "language_info": {
   "codemirror_mode": {
    "name": "ipython",
    "version": 3
   },
   "file_extension": ".py",
   "mimetype": "text/x-python",
   "name": "python",
   "nbconvert_exporter": "python",
   "pygments_lexer": "ipython3",
   "version": "3.6.7"
  }
 },
 "nbformat": 4,
 "nbformat_minor": 2
}
