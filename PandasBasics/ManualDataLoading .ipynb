{
 "cells": [
  {
   "cell_type": "code",
   "execution_count": 1,
   "metadata": {},
   "outputs": [],
   "source": [
    "# In this file we are talking about how to deal with loading of datasets\n",
    "# These Datasets are widely used in machine learning \n",
    "# we are using pandas\n",
    "X = []"
   ]
  },
  {
   "cell_type": "code",
   "execution_count": 2,
   "metadata": {},
   "outputs": [],
   "source": [
    "# importing the libraries \n",
    "import numpy as np\n",
    "import pandas as pd"
   ]
  },
  {
   "cell_type": "code",
   "execution_count": 3,
   "metadata": {},
   "outputs": [],
   "source": [
    "for line in open('data_2d.csv'):\n",
    "    row= line.split(',') # the split function seperates the text values \n",
    "    # it finds commas and after each comma it considers the next value as an element\n",
    "    # until it finds the next comma\n",
    "    sample = list(map(float, row))\n",
    "    # the map function returns the data after applying the first argument to each element in the list\n",
    "    # in this case it is type casting each element as float \n",
    "    # the list function is used to type cast sample as a list item\n",
    "    X.append(sample)\n",
    "    # now we have the data in the format on which mathematical operations can be done\n",
    "    # so we append the elements into our main list"
   ]
  },
  {
   "cell_type": "code",
   "execution_count": 4,
   "metadata": {},
   "outputs": [
    {
     "name": "stdout",
     "output_type": "stream",
     "text": [
      "(100, 3)\n",
      "[[1.79302012e+01 9.45205920e+01 3.20259530e+02]\n",
      " [9.71446972e+01 6.95932820e+01 4.04634472e+02]\n",
      " [8.17759008e+01 5.73764810e+00 1.81485108e+02]\n",
      " [5.58543424e+01 7.03259017e+01 3.21773638e+02]\n",
      " [4.93665500e+01 7.51140402e+01 3.22465486e+02]\n",
      " [3.19270247e+00 2.92562989e+01 9.46188109e+01]\n",
      " [4.92007841e+01 8.61444385e+01 3.56348093e+02]\n",
      " [2.18828039e+01 4.68415052e+01 1.81653769e+02]\n",
      " [7.95098627e+01 8.73973555e+01 4.23557743e+02]\n",
      " [8.81538875e+01 6.52056419e+01 3.69229245e+02]\n",
      " [6.07438543e+01 9.99576339e+01 4.27605804e+02]\n",
      " [6.74155819e+01 5.03683096e+01 2.92471822e+02]\n",
      " [4.83181158e+01 9.91289531e+01 3.95529811e+02]\n",
      " [2.88299720e+01 8.71849489e+01 3.19031348e+02]\n",
      " [4.38537427e+01 6.44736391e+01 2.87428144e+02]\n",
      " [2.53136941e+01 8.35452943e+01 2.92768909e+02]\n",
      " [1.08077267e+01 4.56955686e+01 1.59663308e+02]\n",
      " [9.83657459e+01 8.26973935e+01 4.38798964e+02]\n",
      " [2.91469100e+01 6.63651068e+01 2.50986309e+02]\n",
      " [6.51003019e+01 3.33538835e+01 2.31711508e+02]\n",
      " [2.46441135e+01 3.95400527e+01 1.63398161e+02]\n",
      " [3.75598049e+01 1.34572784e+00 8.34801551e+01]\n",
      " [8.81645062e+01 9.51536626e+01 4.66265806e+02]\n",
      " [1.38346208e+01 2.54940482e+01 1.00886430e+02]\n",
      " [6.44108437e+01 7.72598381e+01 3.65641048e+02]\n",
      " [6.89259918e+01 9.74536008e+01 4.26140015e+02]\n",
      " [3.94884422e+01 5.08561282e+01 2.35532389e+02]\n",
      " [5.24631777e+01 5.97765097e+01 2.83291640e+02]\n",
      " [4.84847870e+01 6.69703542e+01 2.98581440e+02]\n",
      " [8.06208781e+00 9.82426001e+01 3.09234109e+02]\n",
      " [3.27318877e+01 1.88535355e+01 1.29610139e+02]\n",
      " [1.16523788e+01 6.62645117e+01 2.24150542e+02]\n",
      " [1.37303535e+01 7.04725091e+01 2.35305666e+02]\n",
      " [8.18555177e+00 4.18519894e+01 1.53484189e+02]\n",
      " [5.36098761e+01 9.45601216e+01 3.94939444e+02]\n",
      " [9.53686099e+01 4.72955070e+01 3.36126739e+02]\n",
      " [8.73336092e+01 9.38039343e+01 4.49363352e+02]\n",
      " [6.63576111e+01 8.18475513e+01 3.87014816e+02]\n",
      " [1.97547175e+01 6.55233009e+01 2.40389442e+02]\n",
      " [2.11334405e+01 4.74371820e+01 1.77148281e+02]\n",
      " [2.23738648e+01 2.59556275e+01 1.19611258e+02]\n",
      " [9.39904041e+01 1.27890520e-01 1.96716167e+02]\n",
      " [8.67201981e+01 1.84137668e+01 2.36260808e+02]\n",
      " [9.89983730e+01 6.02312657e+01 3.84381345e+02]\n",
      " [3.59396564e+00 9.62522173e+01 2.93237183e+02]\n",
      " [1.51023634e+01 9.25569036e+01 3.04890883e+02]\n",
      " [9.78341408e+01 2.02390810e+00 2.01293598e+02]\n",
      " [1.99382197e+01 4.67782735e+01 1.70610093e+02]\n",
      " [3.03735111e+01 5.87775252e+01 2.42373484e+02]\n",
      " [7.32928831e+01 6.76696278e+01 3.53082991e+02]\n",
      " [5.22309009e+01 8.19024483e+01 3.48725689e+02]\n",
      " [8.64295761e+01 6.65402276e+01 3.65959971e+02]\n",
      " [9.34008021e+01 1.80752459e+01 2.35472382e+02]\n",
      " [1.32134601e+01 9.14888588e+01 3.00606878e+02]\n",
      " [4.59346270e+00 4.63359315e+01 1.45818745e+02]\n",
      " [1.56692916e+01 3.55437440e+01 1.38880335e+02]\n",
      " [5.29593598e+01 6.87202096e+01 3.17163708e+02]\n",
      " [5.68175212e+01 4.75727319e+01 2.54903631e+02]\n",
      " [5.11335431e+01 7.80421675e+01 3.34584334e+02]\n",
      " [7.86216472e+00 1.77290818e+01 6.93555888e+01]\n",
      " [5.46986037e+01 9.27445841e+01 3.86859937e+02]\n",
      " [8.63990630e+01 4.18886946e+01 2.94871714e+02]\n",
      " [1.19475060e+01 4.29613867e+01 1.56754220e+02]\n",
      " [7.03584011e+01 8.37062345e+01 3.91806135e+02]\n",
      " [2.90223663e+01 8.43277831e+01 3.19310463e+02]\n",
      " [4.27594799e+01 9.74933261e+01 3.76291589e+02]\n",
      " [9.62156564e+01 2.58342826e+01 2.80617044e+02]\n",
      " [5.32277277e+01 2.79055086e+01 1.94430465e+02]\n",
      " [3.03609897e+01 9.39644215e-01 6.96488632e+01]\n",
      " [8.32775654e+01 7.31793486e+01 3.84597185e+02]\n",
      " [3.01876925e+01 7.14653860e+00 8.95390084e+01]\n",
      " [1.17884185e+01 5.16977608e+01 1.81550683e+02]\n",
      " [1.82924240e+01 6.19779760e+01 2.24773383e+02]\n",
      " [9.67126677e+01 9.02910151e+00 2.19567094e+02]\n",
      " [3.10127387e+01 7.82833825e+01 2.98490216e+02]\n",
      " [1.13972608e+01 6.17286932e+01 1.99944045e+02]\n",
      " [1.73925558e+01 4.24114086e+00 4.39156924e+01]\n",
      " [7.21826937e+01 3.45390722e+01 2.56068378e+02]\n",
      " [7.39800208e+01 3.71649344e+00 1.59372581e+02]\n",
      " [9.44930584e+01 8.84171970e+01 4.47132704e+02]\n",
      " [8.45628207e+01 2.02411622e+01 2.33078830e+02]\n",
      " [5.17424740e+01 1.10097480e+01 1.31070180e+02]\n",
      " [5.37485904e+01 6.00251023e+01 2.98814333e+02]\n",
      " [8.50508348e+01 9.57369970e+01 4.51803523e+02]\n",
      " [4.67772505e+01 9.02022062e+01 3.68366436e+02]\n",
      " [4.97584342e+01 5.28344944e+01 2.54706774e+02]\n",
      " [2.41192565e+01 4.21028108e+01 1.68308433e+02]\n",
      " [2.72015765e+01 2.99787493e+01 1.46342260e+02]\n",
      " [7.00959617e+00 5.58760584e+01 1.76810149e+02]\n",
      " [9.76469497e+01 8.14762513e+00 2.19160280e+02]\n",
      " [1.38298251e+00 8.49440869e+01 2.52905653e+02]\n",
      " [2.23235304e+01 2.75150750e+01 1.27570479e+02]\n",
      " [4.50454062e+01 9.35204022e+01 3.75822340e+02]\n",
      " [4.01639915e+01 1.61699235e-01 8.03890193e+01]\n",
      " [5.31827398e+01 8.17031616e+00 1.42718183e+02]\n",
      " [4.64567792e+01 8.20001709e+01 3.36876154e+02]\n",
      " [7.71303007e+01 9.51887595e+01 4.38460586e+02]\n",
      " [6.86006076e+01 7.25711807e+01 3.55900287e+02]\n",
      " [4.16938871e+01 6.92411260e+01 2.84834637e+02]\n",
      " [4.14266940e+00 5.22547264e+01 1.68034401e+02]]\n"
     ]
    }
   ],
   "source": [
    "X = np.array(X) # converting list into a numpy array\n",
    "print(X.shape) # gives information about the dimensions of the array (rows, colmns)\n",
    "print(X) "
   ]
  },
  {
   "cell_type": "code",
   "execution_count": 5,
   "metadata": {},
   "outputs": [],
   "source": [
    "# this method which is displayed above is an example of loading the data manually\n",
    "# that is loading the data without pandas\n"
   ]
  },
  {
   "cell_type": "code",
   "execution_count": 10,
   "metadata": {},
   "outputs": [
    {
     "name": "stdout",
     "output_type": "stream",
     "text": [
      "           0          1           2\n",
      "0  17.930201  94.520592  320.259530\n",
      "1  97.144697  69.593282  404.634472\n",
      "2  81.775901   5.737648  181.485108\n",
      "3  55.854342  70.325902  321.773638\n",
      "4  49.366550  75.114040  322.465486\n"
     ]
    }
   ],
   "source": [
    "# Now we are going to use pandas, which makes loading and working on datasets effortless\n",
    "X = pd.read_csv(\"data_2d.csv\", header=None) # pandas method to load .csv type dataset\n",
    "print(X.head()) # displays the first 5 rows by default and n rows if passed as argument"
   ]
  },
  {
   "cell_type": "code",
   "execution_count": 11,
   "metadata": {},
   "outputs": [
    {
     "name": "stdout",
     "output_type": "stream",
     "text": [
      "<class 'pandas.core.frame.DataFrame'>\n"
     ]
    }
   ],
   "source": [
    "# let us see the datatype of object created using pandas \n",
    "print(type(X))"
   ]
  },
  {
   "cell_type": "code",
   "execution_count": 12,
   "metadata": {},
   "outputs": [
    {
     "name": "stdout",
     "output_type": "stream",
     "text": [
      "<class 'pandas.core.frame.DataFrame'>\n",
      "RangeIndex: 100 entries, 0 to 99\n",
      "Data columns (total 3 columns):\n",
      "0    100 non-null float64\n",
      "1    100 non-null float64\n",
      "2    100 non-null float64\n",
      "dtypes: float64(3)\n",
      "memory usage: 2.4 KB\n"
     ]
    }
   ],
   "source": [
    "# A Data frame is a two-dimensional data structure, i.e., data is aligned in a tabular fashion in rows and columns.\n",
    "\n",
    "\n",
    "\n",
    "\n",
    "# gives the info about the type of data in our Dataframe \n",
    "X.info()"
   ]
  },
  {
   "cell_type": "code",
   "execution_count": 13,
   "metadata": {},
   "outputs": [],
   "source": []
  },
  {
   "cell_type": "code",
   "execution_count": null,
   "metadata": {},
   "outputs": [],
   "source": []
  },
  {
   "cell_type": "code",
   "execution_count": null,
   "metadata": {},
   "outputs": [],
   "source": []
  },
  {
   "cell_type": "code",
   "execution_count": null,
   "metadata": {},
   "outputs": [],
   "source": []
  }
 ],
 "metadata": {
  "kernelspec": {
   "display_name": "Python 3",
   "language": "python",
   "name": "python3"
  },
  "language_info": {
   "codemirror_mode": {
    "name": "ipython",
    "version": 3
   },
   "file_extension": ".py",
   "mimetype": "text/x-python",
   "name": "python",
   "nbconvert_exporter": "python",
   "pygments_lexer": "ipython3",
   "version": "3.6.6"
  }
 },
 "nbformat": 4,
 "nbformat_minor": 2
}
